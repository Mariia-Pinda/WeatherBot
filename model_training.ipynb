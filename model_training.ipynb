{
 "cells": [
  {
   "cell_type": "code",
   "execution_count": 1,
   "metadata": {
    "collapsed": true
   },
   "outputs": [
    {
     "name": "stdout",
     "output_type": "stream",
     "text": [
      "Reading the data\n"
     ]
    },
    {
     "data": {
      "text/plain": "          dt                         dt_iso  timezone city_name      lat  \\\n0  283996800  1979-01-01 00:00:00 +0000 UTC     10800      Kyiv  50.4501   \n1  284000400  1979-01-01 01:00:00 +0000 UTC     10800      Kyiv  50.4501   \n2  284004000  1979-01-01 02:00:00 +0000 UTC     10800      Kyiv  50.4501   \n3  284007600  1979-01-01 03:00:00 +0000 UTC     10800      Kyiv  50.4501   \n4  284011200  1979-01-01 04:00:00 +0000 UTC     10800      Kyiv  50.4501   \n\n       lon   temp  visibility  dew_point  feels_like  ...  wind_gust  rain_1h  \\\n0  30.5234 -17.39         NaN     -19.48      -24.39  ...        NaN      NaN   \n1  30.5234 -17.05         NaN     -19.28      -24.05  ...        NaN      NaN   \n2  30.5234 -16.58         NaN     -18.95      -23.58  ...        NaN      NaN   \n3  30.5234 -14.88         NaN     -16.89      -21.88  ...        NaN      NaN   \n4  30.5234 -14.78         NaN     -16.79      -21.78  ...        NaN      NaN   \n\n   rain_3h  snow_1h  snow_3h  clouds_all  weather_id  weather_main  \\\n0      NaN     0.49      NaN         100         600          Snow   \n1      NaN     0.34      NaN         100         600          Snow   \n2      NaN     0.22      NaN         100         600          Snow   \n3      NaN     0.11      NaN         100         600          Snow   \n4      NaN      NaN      NaN         100         804        Clouds   \n\n   weather_description  weather_icon  \n0           light snow           13n  \n1           light snow           13n  \n2           light snow           13n  \n3           light snow           13n  \n4      overcast clouds           04n  \n\n[5 rows x 28 columns]",
      "text/html": "<div>\n<style scoped>\n    .dataframe tbody tr th:only-of-type {\n        vertical-align: middle;\n    }\n\n    .dataframe tbody tr th {\n        vertical-align: top;\n    }\n\n    .dataframe thead th {\n        text-align: right;\n    }\n</style>\n<table border=\"1\" class=\"dataframe\">\n  <thead>\n    <tr style=\"text-align: right;\">\n      <th></th>\n      <th>dt</th>\n      <th>dt_iso</th>\n      <th>timezone</th>\n      <th>city_name</th>\n      <th>lat</th>\n      <th>lon</th>\n      <th>temp</th>\n      <th>visibility</th>\n      <th>dew_point</th>\n      <th>feels_like</th>\n      <th>...</th>\n      <th>wind_gust</th>\n      <th>rain_1h</th>\n      <th>rain_3h</th>\n      <th>snow_1h</th>\n      <th>snow_3h</th>\n      <th>clouds_all</th>\n      <th>weather_id</th>\n      <th>weather_main</th>\n      <th>weather_description</th>\n      <th>weather_icon</th>\n    </tr>\n  </thead>\n  <tbody>\n    <tr>\n      <th>0</th>\n      <td>283996800</td>\n      <td>1979-01-01 00:00:00 +0000 UTC</td>\n      <td>10800</td>\n      <td>Kyiv</td>\n      <td>50.4501</td>\n      <td>30.5234</td>\n      <td>-17.39</td>\n      <td>NaN</td>\n      <td>-19.48</td>\n      <td>-24.39</td>\n      <td>...</td>\n      <td>NaN</td>\n      <td>NaN</td>\n      <td>NaN</td>\n      <td>0.49</td>\n      <td>NaN</td>\n      <td>100</td>\n      <td>600</td>\n      <td>Snow</td>\n      <td>light snow</td>\n      <td>13n</td>\n    </tr>\n    <tr>\n      <th>1</th>\n      <td>284000400</td>\n      <td>1979-01-01 01:00:00 +0000 UTC</td>\n      <td>10800</td>\n      <td>Kyiv</td>\n      <td>50.4501</td>\n      <td>30.5234</td>\n      <td>-17.05</td>\n      <td>NaN</td>\n      <td>-19.28</td>\n      <td>-24.05</td>\n      <td>...</td>\n      <td>NaN</td>\n      <td>NaN</td>\n      <td>NaN</td>\n      <td>0.34</td>\n      <td>NaN</td>\n      <td>100</td>\n      <td>600</td>\n      <td>Snow</td>\n      <td>light snow</td>\n      <td>13n</td>\n    </tr>\n    <tr>\n      <th>2</th>\n      <td>284004000</td>\n      <td>1979-01-01 02:00:00 +0000 UTC</td>\n      <td>10800</td>\n      <td>Kyiv</td>\n      <td>50.4501</td>\n      <td>30.5234</td>\n      <td>-16.58</td>\n      <td>NaN</td>\n      <td>-18.95</td>\n      <td>-23.58</td>\n      <td>...</td>\n      <td>NaN</td>\n      <td>NaN</td>\n      <td>NaN</td>\n      <td>0.22</td>\n      <td>NaN</td>\n      <td>100</td>\n      <td>600</td>\n      <td>Snow</td>\n      <td>light snow</td>\n      <td>13n</td>\n    </tr>\n    <tr>\n      <th>3</th>\n      <td>284007600</td>\n      <td>1979-01-01 03:00:00 +0000 UTC</td>\n      <td>10800</td>\n      <td>Kyiv</td>\n      <td>50.4501</td>\n      <td>30.5234</td>\n      <td>-14.88</td>\n      <td>NaN</td>\n      <td>-16.89</td>\n      <td>-21.88</td>\n      <td>...</td>\n      <td>NaN</td>\n      <td>NaN</td>\n      <td>NaN</td>\n      <td>0.11</td>\n      <td>NaN</td>\n      <td>100</td>\n      <td>600</td>\n      <td>Snow</td>\n      <td>light snow</td>\n      <td>13n</td>\n    </tr>\n    <tr>\n      <th>4</th>\n      <td>284011200</td>\n      <td>1979-01-01 04:00:00 +0000 UTC</td>\n      <td>10800</td>\n      <td>Kyiv</td>\n      <td>50.4501</td>\n      <td>30.5234</td>\n      <td>-14.78</td>\n      <td>NaN</td>\n      <td>-16.79</td>\n      <td>-21.78</td>\n      <td>...</td>\n      <td>NaN</td>\n      <td>NaN</td>\n      <td>NaN</td>\n      <td>NaN</td>\n      <td>NaN</td>\n      <td>100</td>\n      <td>804</td>\n      <td>Clouds</td>\n      <td>overcast clouds</td>\n      <td>04n</td>\n    </tr>\n  </tbody>\n</table>\n<p>5 rows × 28 columns</p>\n</div>"
     },
     "execution_count": 1,
     "metadata": {},
     "output_type": "execute_result"
    }
   ],
   "source": [
    "import pandas as pd\n",
    "\n",
    "print(\"Reading the data\")\n",
    "df = pd.read_csv(\"data\\\\Kyiv.csv\")\n",
    "df.head()"
   ]
  },
  {
   "cell_type": "code",
   "execution_count": 2,
   "outputs": [
    {
     "name": "stdout",
     "output_type": "stream",
     "text": [
      "<class 'pandas.core.frame.DataFrame'>\n",
      "RangeIndex: 392784 entries, 0 to 392783\n",
      "Data columns (total 28 columns):\n",
      " #   Column               Non-Null Count   Dtype  \n",
      "---  ------               --------------   -----  \n",
      " 0   dt                   392784 non-null  int64  \n",
      " 1   dt_iso               392784 non-null  object \n",
      " 2   timezone             392784 non-null  int64  \n",
      " 3   city_name            392784 non-null  object \n",
      " 4   lat                  392784 non-null  float64\n",
      " 5   lon                  392784 non-null  float64\n",
      " 6   temp                 392784 non-null  float64\n",
      " 7   visibility           0 non-null       float64\n",
      " 8   dew_point            392779 non-null  float64\n",
      " 9   feels_like           392784 non-null  float64\n",
      " 10  temp_min             392784 non-null  float64\n",
      " 11  temp_max             392784 non-null  float64\n",
      " 12  pressure             392784 non-null  int64  \n",
      " 13  sea_level            0 non-null       float64\n",
      " 14  grnd_level           0 non-null       float64\n",
      " 15  humidity             392784 non-null  int64  \n",
      " 16  wind_speed           392784 non-null  float64\n",
      " 17  wind_deg             392784 non-null  int64  \n",
      " 18  wind_gust            29473 non-null   float64\n",
      " 19  rain_1h              38995 non-null   float64\n",
      " 20  rain_3h              32 non-null      float64\n",
      " 21  snow_1h              15980 non-null   float64\n",
      " 22  snow_3h              0 non-null       float64\n",
      " 23  clouds_all           392784 non-null  int64  \n",
      " 24  weather_id           392784 non-null  int64  \n",
      " 25  weather_main         392784 non-null  object \n",
      " 26  weather_description  392784 non-null  object \n",
      " 27  weather_icon         392784 non-null  object \n",
      "dtypes: float64(16), int64(7), object(5)\n",
      "memory usage: 83.9+ MB\n"
     ]
    }
   ],
   "source": [
    "df.info()"
   ],
   "metadata": {
    "collapsed": false
   }
  },
  {
   "cell_type": "code",
   "execution_count": 3,
   "outputs": [],
   "source": [
    "# List of columns to drop\n",
    "columns_to_drop = ['city_name', 'lat', 'lon', 'dt_iso', 'timezone',\n",
    "                   'weather_id', 'weather_main', 'weather_description',\n",
    "                   'weather_icon', 'rain_3h', 'snow_3h', 'sea_level',\n",
    "                   'grnd_level', 'visibility', 'wind_gust', 'temp_min', 'temp_max']\n",
    "\n",
    "# Drop the columns\n",
    "data_cleaned = df.drop(columns=columns_to_drop)\n"
   ],
   "metadata": {
    "collapsed": false
   }
  },
  {
   "cell_type": "code",
   "execution_count": 4,
   "outputs": [
    {
     "data": {
      "text/plain": "          dt   temp  dew_point  feels_like  pressure  humidity  wind_speed  \\\n0  283996800 -17.39     -19.48      -24.39       999        82        5.71   \n1  284000400 -17.05     -19.28      -24.05       998        81        5.59   \n2  284004000 -16.58     -18.95      -23.58       997        80        5.27   \n3  284007600 -14.88     -16.89      -21.88       996        83        4.94   \n4  284011200 -14.78     -16.79      -21.78       995        83        4.69   \n\n   wind_deg  rain_1h  snow_1h  clouds_all  \n0        98      NaN     0.49         100  \n1       100      NaN     0.34         100  \n2       100      NaN     0.22         100  \n3        97      NaN     0.11         100  \n4        95      NaN      NaN         100  ",
      "text/html": "<div>\n<style scoped>\n    .dataframe tbody tr th:only-of-type {\n        vertical-align: middle;\n    }\n\n    .dataframe tbody tr th {\n        vertical-align: top;\n    }\n\n    .dataframe thead th {\n        text-align: right;\n    }\n</style>\n<table border=\"1\" class=\"dataframe\">\n  <thead>\n    <tr style=\"text-align: right;\">\n      <th></th>\n      <th>dt</th>\n      <th>temp</th>\n      <th>dew_point</th>\n      <th>feels_like</th>\n      <th>pressure</th>\n      <th>humidity</th>\n      <th>wind_speed</th>\n      <th>wind_deg</th>\n      <th>rain_1h</th>\n      <th>snow_1h</th>\n      <th>clouds_all</th>\n    </tr>\n  </thead>\n  <tbody>\n    <tr>\n      <th>0</th>\n      <td>283996800</td>\n      <td>-17.39</td>\n      <td>-19.48</td>\n      <td>-24.39</td>\n      <td>999</td>\n      <td>82</td>\n      <td>5.71</td>\n      <td>98</td>\n      <td>NaN</td>\n      <td>0.49</td>\n      <td>100</td>\n    </tr>\n    <tr>\n      <th>1</th>\n      <td>284000400</td>\n      <td>-17.05</td>\n      <td>-19.28</td>\n      <td>-24.05</td>\n      <td>998</td>\n      <td>81</td>\n      <td>5.59</td>\n      <td>100</td>\n      <td>NaN</td>\n      <td>0.34</td>\n      <td>100</td>\n    </tr>\n    <tr>\n      <th>2</th>\n      <td>284004000</td>\n      <td>-16.58</td>\n      <td>-18.95</td>\n      <td>-23.58</td>\n      <td>997</td>\n      <td>80</td>\n      <td>5.27</td>\n      <td>100</td>\n      <td>NaN</td>\n      <td>0.22</td>\n      <td>100</td>\n    </tr>\n    <tr>\n      <th>3</th>\n      <td>284007600</td>\n      <td>-14.88</td>\n      <td>-16.89</td>\n      <td>-21.88</td>\n      <td>996</td>\n      <td>83</td>\n      <td>4.94</td>\n      <td>97</td>\n      <td>NaN</td>\n      <td>0.11</td>\n      <td>100</td>\n    </tr>\n    <tr>\n      <th>4</th>\n      <td>284011200</td>\n      <td>-14.78</td>\n      <td>-16.79</td>\n      <td>-21.78</td>\n      <td>995</td>\n      <td>83</td>\n      <td>4.69</td>\n      <td>95</td>\n      <td>NaN</td>\n      <td>NaN</td>\n      <td>100</td>\n    </tr>\n  </tbody>\n</table>\n</div>"
     },
     "execution_count": 4,
     "metadata": {},
     "output_type": "execute_result"
    }
   ],
   "source": [
    "data_cleaned.head()"
   ],
   "metadata": {
    "collapsed": false
   }
  },
  {
   "cell_type": "code",
   "execution_count": 5,
   "outputs": [
    {
     "data": {
      "text/plain": "          dt   temp  dew_point  feels_like  pressure  humidity  wind_speed  \\\n0  283996800 -17.39     -19.48      -24.39       999        82        5.71   \n1  284000400 -17.05     -19.28      -24.05       998        81        5.59   \n2  284004000 -16.58     -18.95      -23.58       997        80        5.27   \n3  284007600 -14.88     -16.89      -21.88       996        83        4.94   \n4  284011200 -14.78     -16.79      -21.78       995        83        4.69   \n\n   wind_deg  rain_1h  snow_1h  clouds_all            datetime  hour  month  \n0        98      NaN     0.49         100 1979-01-01 00:00:00     0      1  \n1       100      NaN     0.34         100 1979-01-01 01:00:00     1      1  \n2       100      NaN     0.22         100 1979-01-01 02:00:00     2      1  \n3        97      NaN     0.11         100 1979-01-01 03:00:00     3      1  \n4        95      NaN      NaN         100 1979-01-01 04:00:00     4      1  ",
      "text/html": "<div>\n<style scoped>\n    .dataframe tbody tr th:only-of-type {\n        vertical-align: middle;\n    }\n\n    .dataframe tbody tr th {\n        vertical-align: top;\n    }\n\n    .dataframe thead th {\n        text-align: right;\n    }\n</style>\n<table border=\"1\" class=\"dataframe\">\n  <thead>\n    <tr style=\"text-align: right;\">\n      <th></th>\n      <th>dt</th>\n      <th>temp</th>\n      <th>dew_point</th>\n      <th>feels_like</th>\n      <th>pressure</th>\n      <th>humidity</th>\n      <th>wind_speed</th>\n      <th>wind_deg</th>\n      <th>rain_1h</th>\n      <th>snow_1h</th>\n      <th>clouds_all</th>\n      <th>datetime</th>\n      <th>hour</th>\n      <th>month</th>\n    </tr>\n  </thead>\n  <tbody>\n    <tr>\n      <th>0</th>\n      <td>283996800</td>\n      <td>-17.39</td>\n      <td>-19.48</td>\n      <td>-24.39</td>\n      <td>999</td>\n      <td>82</td>\n      <td>5.71</td>\n      <td>98</td>\n      <td>NaN</td>\n      <td>0.49</td>\n      <td>100</td>\n      <td>1979-01-01 00:00:00</td>\n      <td>0</td>\n      <td>1</td>\n    </tr>\n    <tr>\n      <th>1</th>\n      <td>284000400</td>\n      <td>-17.05</td>\n      <td>-19.28</td>\n      <td>-24.05</td>\n      <td>998</td>\n      <td>81</td>\n      <td>5.59</td>\n      <td>100</td>\n      <td>NaN</td>\n      <td>0.34</td>\n      <td>100</td>\n      <td>1979-01-01 01:00:00</td>\n      <td>1</td>\n      <td>1</td>\n    </tr>\n    <tr>\n      <th>2</th>\n      <td>284004000</td>\n      <td>-16.58</td>\n      <td>-18.95</td>\n      <td>-23.58</td>\n      <td>997</td>\n      <td>80</td>\n      <td>5.27</td>\n      <td>100</td>\n      <td>NaN</td>\n      <td>0.22</td>\n      <td>100</td>\n      <td>1979-01-01 02:00:00</td>\n      <td>2</td>\n      <td>1</td>\n    </tr>\n    <tr>\n      <th>3</th>\n      <td>284007600</td>\n      <td>-14.88</td>\n      <td>-16.89</td>\n      <td>-21.88</td>\n      <td>996</td>\n      <td>83</td>\n      <td>4.94</td>\n      <td>97</td>\n      <td>NaN</td>\n      <td>0.11</td>\n      <td>100</td>\n      <td>1979-01-01 03:00:00</td>\n      <td>3</td>\n      <td>1</td>\n    </tr>\n    <tr>\n      <th>4</th>\n      <td>284011200</td>\n      <td>-14.78</td>\n      <td>-16.79</td>\n      <td>-21.78</td>\n      <td>995</td>\n      <td>83</td>\n      <td>4.69</td>\n      <td>95</td>\n      <td>NaN</td>\n      <td>NaN</td>\n      <td>100</td>\n      <td>1979-01-01 04:00:00</td>\n      <td>4</td>\n      <td>1</td>\n    </tr>\n  </tbody>\n</table>\n</div>"
     },
     "execution_count": 5,
     "metadata": {},
     "output_type": "execute_result"
    }
   ],
   "source": [
    "import numpy as np\n",
    "\n",
    "# Convert the 'dt' column to a datetime format\n",
    "data_cleaned['datetime'] = pd.to_datetime(data_cleaned['dt'], unit='s')\n",
    "\n",
    "# Extract the hour and month\n",
    "data_cleaned['hour'] = data_cleaned['datetime'].dt.hour\n",
    "data_cleaned['month'] = data_cleaned['datetime'].dt.month\n",
    "data_cleaned.head()"
   ],
   "metadata": {
    "collapsed": false
   }
  },
  {
   "cell_type": "code",
   "execution_count": 6,
   "outputs": [
    {
     "name": "stdout",
     "output_type": "stream",
     "text": [
      "<class 'pandas.core.frame.DataFrame'>\n",
      "RangeIndex: 392784 entries, 0 to 392783\n",
      "Data columns (total 14 columns):\n",
      " #   Column      Non-Null Count   Dtype  \n",
      "---  ------      --------------   -----  \n",
      " 0   temp        392784 non-null  float64\n",
      " 1   dew_point   392779 non-null  float64\n",
      " 2   feels_like  392784 non-null  float64\n",
      " 3   pressure    392784 non-null  int64  \n",
      " 4   humidity    392784 non-null  int64  \n",
      " 5   wind_speed  392784 non-null  float64\n",
      " 6   wind_deg    392784 non-null  int64  \n",
      " 7   rain_1h     38995 non-null   float64\n",
      " 8   snow_1h     15980 non-null   float64\n",
      " 9   clouds_all  392784 non-null  int64  \n",
      " 10  hour_sin    392784 non-null  float64\n",
      " 11  hour_cos    392784 non-null  float64\n",
      " 12  month_sin   392784 non-null  float64\n",
      " 13  month_cos   392784 non-null  float64\n",
      "dtypes: float64(10), int64(4)\n",
      "memory usage: 42.0 MB\n"
     ]
    },
    {
     "data": {
      "text/plain": "    temp  dew_point  feels_like  pressure  humidity  wind_speed  wind_deg  \\\n0 -17.39     -19.48      -24.39       999        82        5.71        98   \n1 -17.05     -19.28      -24.05       998        81        5.59       100   \n2 -16.58     -18.95      -23.58       997        80        5.27       100   \n3 -14.88     -16.89      -21.88       996        83        4.94        97   \n4 -14.78     -16.79      -21.78       995        83        4.69        95   \n\n   rain_1h  snow_1h  clouds_all  hour_sin  hour_cos  month_sin  month_cos  \n0      NaN     0.49         100  0.000000  1.000000        0.5   0.866025  \n1      NaN     0.34         100  0.258819  0.965926        0.5   0.866025  \n2      NaN     0.22         100  0.500000  0.866025        0.5   0.866025  \n3      NaN     0.11         100  0.707107  0.707107        0.5   0.866025  \n4      NaN      NaN         100  0.866025  0.500000        0.5   0.866025  ",
      "text/html": "<div>\n<style scoped>\n    .dataframe tbody tr th:only-of-type {\n        vertical-align: middle;\n    }\n\n    .dataframe tbody tr th {\n        vertical-align: top;\n    }\n\n    .dataframe thead th {\n        text-align: right;\n    }\n</style>\n<table border=\"1\" class=\"dataframe\">\n  <thead>\n    <tr style=\"text-align: right;\">\n      <th></th>\n      <th>temp</th>\n      <th>dew_point</th>\n      <th>feels_like</th>\n      <th>pressure</th>\n      <th>humidity</th>\n      <th>wind_speed</th>\n      <th>wind_deg</th>\n      <th>rain_1h</th>\n      <th>snow_1h</th>\n      <th>clouds_all</th>\n      <th>hour_sin</th>\n      <th>hour_cos</th>\n      <th>month_sin</th>\n      <th>month_cos</th>\n    </tr>\n  </thead>\n  <tbody>\n    <tr>\n      <th>0</th>\n      <td>-17.39</td>\n      <td>-19.48</td>\n      <td>-24.39</td>\n      <td>999</td>\n      <td>82</td>\n      <td>5.71</td>\n      <td>98</td>\n      <td>NaN</td>\n      <td>0.49</td>\n      <td>100</td>\n      <td>0.000000</td>\n      <td>1.000000</td>\n      <td>0.5</td>\n      <td>0.866025</td>\n    </tr>\n    <tr>\n      <th>1</th>\n      <td>-17.05</td>\n      <td>-19.28</td>\n      <td>-24.05</td>\n      <td>998</td>\n      <td>81</td>\n      <td>5.59</td>\n      <td>100</td>\n      <td>NaN</td>\n      <td>0.34</td>\n      <td>100</td>\n      <td>0.258819</td>\n      <td>0.965926</td>\n      <td>0.5</td>\n      <td>0.866025</td>\n    </tr>\n    <tr>\n      <th>2</th>\n      <td>-16.58</td>\n      <td>-18.95</td>\n      <td>-23.58</td>\n      <td>997</td>\n      <td>80</td>\n      <td>5.27</td>\n      <td>100</td>\n      <td>NaN</td>\n      <td>0.22</td>\n      <td>100</td>\n      <td>0.500000</td>\n      <td>0.866025</td>\n      <td>0.5</td>\n      <td>0.866025</td>\n    </tr>\n    <tr>\n      <th>3</th>\n      <td>-14.88</td>\n      <td>-16.89</td>\n      <td>-21.88</td>\n      <td>996</td>\n      <td>83</td>\n      <td>4.94</td>\n      <td>97</td>\n      <td>NaN</td>\n      <td>0.11</td>\n      <td>100</td>\n      <td>0.707107</td>\n      <td>0.707107</td>\n      <td>0.5</td>\n      <td>0.866025</td>\n    </tr>\n    <tr>\n      <th>4</th>\n      <td>-14.78</td>\n      <td>-16.79</td>\n      <td>-21.78</td>\n      <td>995</td>\n      <td>83</td>\n      <td>4.69</td>\n      <td>95</td>\n      <td>NaN</td>\n      <td>NaN</td>\n      <td>100</td>\n      <td>0.866025</td>\n      <td>0.500000</td>\n      <td>0.5</td>\n      <td>0.866025</td>\n    </tr>\n  </tbody>\n</table>\n</div>"
     },
     "execution_count": 6,
     "metadata": {},
     "output_type": "execute_result"
    }
   ],
   "source": [
    "\n",
    "# Represent the hour and month cyclically\n",
    "data_cleaned['hour_sin'] = np.sin(2 * np.pi * data_cleaned['hour'] / 24)\n",
    "data_cleaned['hour_cos'] = np.cos(2 * np.pi * data_cleaned['hour'] / 24)\n",
    "data_cleaned['month_sin'] = np.sin(2 * np.pi * data_cleaned['month'] / 12)\n",
    "data_cleaned['month_cos'] = np.cos(2 * np.pi * data_cleaned['month'] / 12)\n",
    "\n",
    "# Drop the original 'hour', 'month', and 'datetime' columns\n",
    "data_cleaned = data_cleaned.drop(columns=['hour', 'month', 'datetime', 'dt'])\n",
    "\n",
    "data_cleaned.info()\n",
    "data_cleaned.head()"
   ],
   "metadata": {
    "collapsed": false
   }
  },
  {
   "cell_type": "code",
   "execution_count": 7,
   "outputs": [
    {
     "data": {
      "text/plain": "0        -19.48\n1        -19.28\n2        -18.95\n3        -16.89\n4        -16.79\n          ...  \n392779     7.74\n392780     7.97\n392781     7.97\n392782     7.97\n392783    11.86\nName: dew_point, Length: 392784, dtype: float64"
     },
     "execution_count": 7,
     "metadata": {},
     "output_type": "execute_result"
    }
   ],
   "source": [
    "# Fill NaN values in 'dew_point' using forward-fill\n",
    "data_cleaned['dew_point'].ffill()"
   ],
   "metadata": {
    "collapsed": false
   }
  },
  {
   "cell_type": "code",
   "execution_count": 8,
   "outputs": [],
   "source": [
    "# Fill NaN values in 'rain_1h' and 'snow_1h' with 0\n",
    "data_cleaned['rain_1h'].fillna(0, inplace=True)\n",
    "data_cleaned['snow_1h'].fillna(0, inplace=True)\n",
    "data_cleaned = data_cleaned[data_cleaned['temp']>=-50]"
   ],
   "metadata": {
    "collapsed": false
   }
  },
  {
   "cell_type": "code",
   "execution_count": 9,
   "outputs": [
    {
     "name": "stdout",
     "output_type": "stream",
     "text": [
      "<class 'pandas.core.frame.DataFrame'>\n",
      "Index: 392779 entries, 0 to 392783\n",
      "Data columns (total 14 columns):\n",
      " #   Column      Non-Null Count   Dtype  \n",
      "---  ------      --------------   -----  \n",
      " 0   temp        392779 non-null  float64\n",
      " 1   dew_point   392779 non-null  float64\n",
      " 2   feels_like  392779 non-null  float64\n",
      " 3   pressure    392779 non-null  int64  \n",
      " 4   humidity    392779 non-null  int64  \n",
      " 5   wind_speed  392779 non-null  float64\n",
      " 6   wind_deg    392779 non-null  int64  \n",
      " 7   rain_1h     392779 non-null  float64\n",
      " 8   snow_1h     392779 non-null  float64\n",
      " 9   clouds_all  392779 non-null  int64  \n",
      " 10  hour_sin    392779 non-null  float64\n",
      " 11  hour_cos    392779 non-null  float64\n",
      " 12  month_sin   392779 non-null  float64\n",
      " 13  month_cos   392779 non-null  float64\n",
      "dtypes: float64(10), int64(4)\n",
      "memory usage: 44.9 MB\n"
     ]
    }
   ],
   "source": [
    "data_cleaned.info()"
   ],
   "metadata": {
    "collapsed": false
   }
  },
  {
   "cell_type": "code",
   "execution_count": 10,
   "outputs": [
    {
     "name": "stdout",
     "output_type": "stream",
     "text": [
      "<class 'pandas.core.frame.DataFrame'>\n",
      "RangeIndex: 392779 entries, 0 to 392778\n",
      "Data columns (total 14 columns):\n",
      " #   Column      Non-Null Count   Dtype  \n",
      "---  ------      --------------   -----  \n",
      " 0   temp        392779 non-null  float64\n",
      " 1   dew_point   392779 non-null  float64\n",
      " 2   feels_like  392779 non-null  float64\n",
      " 3   pressure    392779 non-null  float64\n",
      " 4   humidity    392779 non-null  float64\n",
      " 5   wind_speed  392779 non-null  float64\n",
      " 6   wind_deg    392779 non-null  float64\n",
      " 7   rain_1h     392779 non-null  float64\n",
      " 8   snow_1h     392779 non-null  float64\n",
      " 9   clouds_all  392779 non-null  float64\n",
      " 10  hour_sin    392779 non-null  float64\n",
      " 11  hour_cos    392779 non-null  float64\n",
      " 12  month_sin   392779 non-null  float64\n",
      " 13  month_cos   392779 non-null  float64\n",
      "dtypes: float64(14)\n",
      "memory usage: 42.0 MB\n"
     ]
    },
    {
     "data": {
      "text/plain": "       temp  dew_point  feels_like  pressure  humidity  wind_speed  wind_deg  \\\n0  0.215017   0.358127    0.180522  0.296296  0.818182    0.000570  0.272222   \n1  0.219916   0.360728    0.184811  0.283951  0.808081    0.000558  0.277778   \n2  0.226690   0.365020    0.190741  0.271605  0.797980    0.000526  0.277778   \n3  0.251189   0.391808    0.212186  0.259259  0.828283    0.000493  0.269444   \n4  0.252630   0.393108    0.213448  0.246914  0.828283    0.000468  0.263889   \n\n   rain_1h   snow_1h  clouds_all  hour_sin  hour_cos  month_sin  month_cos  \n0      0.0  0.064304         1.0  0.500000  1.000000       0.75   0.933013  \n1      0.0  0.044619         1.0  0.629410  0.982963       0.75   0.933013  \n2      0.0  0.028871         1.0  0.750000  0.933013       0.75   0.933013  \n3      0.0  0.014436         1.0  0.853553  0.853553       0.75   0.933013  \n4      0.0  0.000000         1.0  0.933013  0.750000       0.75   0.933013  ",
      "text/html": "<div>\n<style scoped>\n    .dataframe tbody tr th:only-of-type {\n        vertical-align: middle;\n    }\n\n    .dataframe tbody tr th {\n        vertical-align: top;\n    }\n\n    .dataframe thead th {\n        text-align: right;\n    }\n</style>\n<table border=\"1\" class=\"dataframe\">\n  <thead>\n    <tr style=\"text-align: right;\">\n      <th></th>\n      <th>temp</th>\n      <th>dew_point</th>\n      <th>feels_like</th>\n      <th>pressure</th>\n      <th>humidity</th>\n      <th>wind_speed</th>\n      <th>wind_deg</th>\n      <th>rain_1h</th>\n      <th>snow_1h</th>\n      <th>clouds_all</th>\n      <th>hour_sin</th>\n      <th>hour_cos</th>\n      <th>month_sin</th>\n      <th>month_cos</th>\n    </tr>\n  </thead>\n  <tbody>\n    <tr>\n      <th>0</th>\n      <td>0.215017</td>\n      <td>0.358127</td>\n      <td>0.180522</td>\n      <td>0.296296</td>\n      <td>0.818182</td>\n      <td>0.000570</td>\n      <td>0.272222</td>\n      <td>0.0</td>\n      <td>0.064304</td>\n      <td>1.0</td>\n      <td>0.500000</td>\n      <td>1.000000</td>\n      <td>0.75</td>\n      <td>0.933013</td>\n    </tr>\n    <tr>\n      <th>1</th>\n      <td>0.219916</td>\n      <td>0.360728</td>\n      <td>0.184811</td>\n      <td>0.283951</td>\n      <td>0.808081</td>\n      <td>0.000558</td>\n      <td>0.277778</td>\n      <td>0.0</td>\n      <td>0.044619</td>\n      <td>1.0</td>\n      <td>0.629410</td>\n      <td>0.982963</td>\n      <td>0.75</td>\n      <td>0.933013</td>\n    </tr>\n    <tr>\n      <th>2</th>\n      <td>0.226690</td>\n      <td>0.365020</td>\n      <td>0.190741</td>\n      <td>0.271605</td>\n      <td>0.797980</td>\n      <td>0.000526</td>\n      <td>0.277778</td>\n      <td>0.0</td>\n      <td>0.028871</td>\n      <td>1.0</td>\n      <td>0.750000</td>\n      <td>0.933013</td>\n      <td>0.75</td>\n      <td>0.933013</td>\n    </tr>\n    <tr>\n      <th>3</th>\n      <td>0.251189</td>\n      <td>0.391808</td>\n      <td>0.212186</td>\n      <td>0.259259</td>\n      <td>0.828283</td>\n      <td>0.000493</td>\n      <td>0.269444</td>\n      <td>0.0</td>\n      <td>0.014436</td>\n      <td>1.0</td>\n      <td>0.853553</td>\n      <td>0.853553</td>\n      <td>0.75</td>\n      <td>0.933013</td>\n    </tr>\n    <tr>\n      <th>4</th>\n      <td>0.252630</td>\n      <td>0.393108</td>\n      <td>0.213448</td>\n      <td>0.246914</td>\n      <td>0.828283</td>\n      <td>0.000468</td>\n      <td>0.263889</td>\n      <td>0.0</td>\n      <td>0.000000</td>\n      <td>1.0</td>\n      <td>0.933013</td>\n      <td>0.750000</td>\n      <td>0.75</td>\n      <td>0.933013</td>\n    </tr>\n  </tbody>\n</table>\n</div>"
     },
     "execution_count": 10,
     "metadata": {},
     "output_type": "execute_result"
    }
   ],
   "source": [
    "from sklearn.preprocessing import MinMaxScaler\n",
    "\n",
    "# Initialize a scaler\n",
    "scaler = MinMaxScaler()\n",
    "\n",
    "# Scale the data\n",
    "data_normalized = pd.DataFrame(scaler.fit_transform(data_cleaned), columns=data_cleaned.columns)\n",
    "data_normalized.info()\n",
    "data_normalized.head()"
   ],
   "metadata": {
    "collapsed": false
   }
  },
  {
   "cell_type": "code",
   "execution_count": 11,
   "outputs": [],
   "source": [
    "def transform_to_sequences(data, n_input, n_out=1):\n",
    "    X, y = [], []\n",
    "    for i in range(len(data) - n_input - n_out + 1):\n",
    "        X.append(data.iloc[i:(i + n_input)].values)\n",
    "        y.append(data.iloc[i + n_input:i + n_input + n_out].values)\n",
    "    return np.array(X), np.array(y)\n",
    "\n",
    "# Number of input time steps\n",
    "n_input = 10\n",
    "\n",
    "# Convert data to sequences\n",
    "X, y = transform_to_sequences(data_normalized, n_input)\n"
   ],
   "metadata": {
    "collapsed": false
   }
  },
  {
   "cell_type": "markdown",
   "source": [
    "Training the model"
   ],
   "metadata": {
    "collapsed": false
   }
  },
  {
   "cell_type": "code",
   "execution_count": 12,
   "outputs": [],
   "source": [
    "import torch\n",
    "import torch.nn as nn\n",
    "from torch.utils.data import DataLoader, TensorDataset"
   ],
   "metadata": {
    "collapsed": false
   }
  },
  {
   "cell_type": "code",
   "execution_count": 13,
   "outputs": [],
   "source": [
    "class LSTMModel(nn.Module):\n",
    "    def __init__(self, input_dim, hidden_dim, num_layers, output_dim, dropout_rate):\n",
    "        super(LSTMModel, self).__init__()\n",
    "        self.hidden_dim = hidden_dim\n",
    "\n",
    "        # Define the LSTM layer with dropout\n",
    "        self.lstm = nn.LSTM(input_dim, hidden_dim, num_layers, batch_first=True, dropout=dropout_rate)\n",
    "\n",
    "        # Define the output layer\n",
    "        self.linear = nn.Linear(hidden_dim, output_dim)\n",
    "\n",
    "    def forward(self, x):\n",
    "        # Initialize hidden state with zeros\n",
    "        h0 = torch.zeros(self.lstm.num_layers, x.size(0), self.hidden_dim).requires_grad_()\n",
    "\n",
    "        # Initialize cell state\n",
    "        c0 = torch.zeros(self.lstm.num_layers, x.size(0), self.hidden_dim).requires_grad_()\n",
    "\n",
    "        # We need to detach as we are doing truncated backpropagation through time (BPTT)\n",
    "        # If we don't, we'll backprop all the way to the start even after going through another batch\n",
    "        out, (hn, cn) = self.lstm(x, (h0.detach(), c0.detach()))\n",
    "\n",
    "        # Index hidden state of last time step\n",
    "        out = self.linear(out[:, -1, :])\n",
    "        return out\n"
   ],
   "metadata": {
    "collapsed": false
   }
  },
  {
   "cell_type": "code",
   "execution_count": 14,
   "outputs": [],
   "source": [
    "input_dim = X.shape[2]  # number of features\n",
    "hidden_dim = 64  # number of hidden states in the LSTM\n",
    "num_layers = 2  # number of LSTM layers\n",
    "output_dim = y.shape[2]  # number of predicted features (same as input features)\n",
    "learning_rate = 0.001\n",
    "num_epochs = 20\n",
    "batch_size = 64\n"
   ],
   "metadata": {
    "collapsed": false
   }
  },
  {
   "cell_type": "code",
   "execution_count": 15,
   "outputs": [],
   "source": [
    "model = LSTMModel(input_dim=input_dim, hidden_dim=hidden_dim, output_dim=output_dim, num_layers=num_layers, dropout_rate = 0.3)\n",
    "\n",
    "loss_function = nn.MSELoss()\n",
    "optimizer = torch.optim.Adam(model.parameters(), lr=learning_rate)\n"
   ],
   "metadata": {
    "collapsed": false
   }
  },
  {
   "cell_type": "code",
   "execution_count": 16,
   "outputs": [
    {
     "name": "stdout",
     "output_type": "stream",
     "text": [
      "Using device: cpu\n"
     ]
    }
   ],
   "source": [
    "# Check if GPU is available\n",
    "device = torch.device(\"cuda\" if torch.cuda.is_available() else \"cpu\")\n",
    "print(\"Using device:\", device)\n"
   ],
   "metadata": {
    "collapsed": false
   }
  },
  {
   "cell_type": "code",
   "execution_count": 17,
   "outputs": [],
   "source": [
    "# Move the model to the device\n",
    "model = model.to(device)"
   ],
   "metadata": {
    "collapsed": false
   }
  },
  {
   "cell_type": "code",
   "execution_count": 18,
   "outputs": [
    {
     "name": "stderr",
     "output_type": "stream",
     "text": [
      "Epoch 1/20: 100%|██████████| 4910/4910 [00:41<00:00, 119.41it/s]\n"
     ]
    },
    {
     "name": "stdout",
     "output_type": "stream",
     "text": [
      "Epoch [1/20], Train Loss: 0.0058, Test Loss: 0.0052\n"
     ]
    },
    {
     "name": "stderr",
     "output_type": "stream",
     "text": [
      "Epoch 2/20: 100%|██████████| 4910/4910 [00:39<00:00, 123.63it/s]\n"
     ]
    },
    {
     "name": "stdout",
     "output_type": "stream",
     "text": [
      "Epoch [2/20], Train Loss: 0.0030, Test Loss: 0.0053\n"
     ]
    },
    {
     "name": "stderr",
     "output_type": "stream",
     "text": [
      "Epoch 3/20: 100%|██████████| 4910/4910 [00:39<00:00, 123.61it/s]\n"
     ]
    },
    {
     "name": "stdout",
     "output_type": "stream",
     "text": [
      "Epoch [3/20], Train Loss: 0.0029, Test Loss: 0.0053\n"
     ]
    },
    {
     "name": "stderr",
     "output_type": "stream",
     "text": [
      "Epoch 4/20: 100%|██████████| 4910/4910 [00:40<00:00, 122.00it/s]\n"
     ]
    },
    {
     "name": "stdout",
     "output_type": "stream",
     "text": [
      "Epoch [4/20], Train Loss: 0.0028, Test Loss: 0.0052\n"
     ]
    },
    {
     "name": "stderr",
     "output_type": "stream",
     "text": [
      "Epoch 5/20: 100%|██████████| 4910/4910 [00:40<00:00, 121.49it/s]\n"
     ]
    },
    {
     "name": "stdout",
     "output_type": "stream",
     "text": [
      "Epoch [5/20], Train Loss: 0.0027, Test Loss: 0.0051\n"
     ]
    },
    {
     "name": "stderr",
     "output_type": "stream",
     "text": [
      "Epoch 6/20: 100%|██████████| 4910/4910 [00:40<00:00, 120.86it/s]\n"
     ]
    },
    {
     "name": "stdout",
     "output_type": "stream",
     "text": [
      "Epoch [6/20], Train Loss: 0.0027, Test Loss: 0.0051\n"
     ]
    },
    {
     "name": "stderr",
     "output_type": "stream",
     "text": [
      "Epoch 7/20: 100%|██████████| 4910/4910 [00:40<00:00, 120.78it/s]\n"
     ]
    },
    {
     "name": "stdout",
     "output_type": "stream",
     "text": [
      "Epoch [7/20], Train Loss: 0.0026, Test Loss: 0.0050\n"
     ]
    },
    {
     "name": "stderr",
     "output_type": "stream",
     "text": [
      "Epoch 8/20: 100%|██████████| 4910/4910 [00:40<00:00, 121.63it/s]\n"
     ]
    },
    {
     "name": "stdout",
     "output_type": "stream",
     "text": [
      "Epoch [8/20], Train Loss: 0.0026, Test Loss: 0.0048\n"
     ]
    },
    {
     "name": "stderr",
     "output_type": "stream",
     "text": [
      "Epoch 9/20: 100%|██████████| 4910/4910 [00:40<00:00, 121.21it/s]\n"
     ]
    },
    {
     "name": "stdout",
     "output_type": "stream",
     "text": [
      "Epoch [9/20], Train Loss: 0.0026, Test Loss: 0.0048\n"
     ]
    },
    {
     "name": "stderr",
     "output_type": "stream",
     "text": [
      "Epoch 10/20: 100%|██████████| 4910/4910 [00:41<00:00, 119.09it/s]\n"
     ]
    },
    {
     "name": "stdout",
     "output_type": "stream",
     "text": [
      "Epoch [10/20], Train Loss: 0.0025, Test Loss: 0.0048\n"
     ]
    },
    {
     "name": "stderr",
     "output_type": "stream",
     "text": [
      "Epoch 11/20: 100%|██████████| 4910/4910 [00:40<00:00, 120.95it/s]\n"
     ]
    },
    {
     "name": "stdout",
     "output_type": "stream",
     "text": [
      "Epoch [11/20], Train Loss: 0.0025, Test Loss: 0.0047\n"
     ]
    },
    {
     "name": "stderr",
     "output_type": "stream",
     "text": [
      "Epoch 12/20: 100%|██████████| 4910/4910 [00:40<00:00, 119.87it/s]\n"
     ]
    },
    {
     "name": "stdout",
     "output_type": "stream",
     "text": [
      "Epoch [12/20], Train Loss: 0.0025, Test Loss: 0.0047\n"
     ]
    },
    {
     "name": "stderr",
     "output_type": "stream",
     "text": [
      "Epoch 13/20: 100%|██████████| 4910/4910 [00:40<00:00, 120.91it/s]\n"
     ]
    },
    {
     "name": "stdout",
     "output_type": "stream",
     "text": [
      "Epoch [13/20], Train Loss: 0.0025, Test Loss: 0.0046\n"
     ]
    },
    {
     "name": "stderr",
     "output_type": "stream",
     "text": [
      "Epoch 14/20: 100%|██████████| 4910/4910 [00:40<00:00, 120.49it/s]\n"
     ]
    },
    {
     "name": "stdout",
     "output_type": "stream",
     "text": [
      "Epoch [14/20], Train Loss: 0.0025, Test Loss: 0.0046\n"
     ]
    },
    {
     "name": "stderr",
     "output_type": "stream",
     "text": [
      "Epoch 15/20: 100%|██████████| 4910/4910 [00:40<00:00, 120.56it/s]\n"
     ]
    },
    {
     "name": "stdout",
     "output_type": "stream",
     "text": [
      "Epoch [15/20], Train Loss: 0.0024, Test Loss: 0.0047\n"
     ]
    },
    {
     "name": "stderr",
     "output_type": "stream",
     "text": [
      "Epoch 16/20: 100%|██████████| 4910/4910 [00:41<00:00, 117.09it/s]\n"
     ]
    },
    {
     "name": "stdout",
     "output_type": "stream",
     "text": [
      "Epoch [16/20], Train Loss: 0.0024, Test Loss: 0.0047\n"
     ]
    },
    {
     "name": "stderr",
     "output_type": "stream",
     "text": [
      "Epoch 17/20: 100%|██████████| 4910/4910 [00:40<00:00, 119.88it/s]\n"
     ]
    },
    {
     "name": "stdout",
     "output_type": "stream",
     "text": [
      "Epoch [17/20], Train Loss: 0.0024, Test Loss: 0.0046\n"
     ]
    },
    {
     "name": "stderr",
     "output_type": "stream",
     "text": [
      "Epoch 18/20: 100%|██████████| 4910/4910 [00:40<00:00, 120.96it/s]\n"
     ]
    },
    {
     "name": "stdout",
     "output_type": "stream",
     "text": [
      "Epoch [18/20], Train Loss: 0.0024, Test Loss: 0.0047\n"
     ]
    },
    {
     "name": "stderr",
     "output_type": "stream",
     "text": [
      "Epoch 19/20: 100%|██████████| 4910/4910 [00:41<00:00, 119.35it/s]\n"
     ]
    },
    {
     "name": "stdout",
     "output_type": "stream",
     "text": [
      "Epoch [19/20], Train Loss: 0.0024, Test Loss: 0.0047\n"
     ]
    },
    {
     "name": "stderr",
     "output_type": "stream",
     "text": [
      "Epoch 20/20: 100%|██████████| 4910/4910 [00:40<00:00, 120.84it/s]\n"
     ]
    },
    {
     "name": "stdout",
     "output_type": "stream",
     "text": [
      "Epoch [20/20], Train Loss: 0.0024, Test Loss: 0.0045\n"
     ]
    }
   ],
   "source": [
    "from tqdm import tqdm  # Import tqdm for progress bars\n",
    "from sklearn.model_selection import train_test_split\n",
    "import math\n",
    "# Split the sequences into a training and test set (e.g., 80% train, 20% test)\n",
    "X_train, X_test, y_train, y_test = train_test_split(X, y, test_size=0.2, shuffle=False)\n",
    "\n",
    "# Convert training and test data to PyTorch tensors\n",
    "X_train_tensor = torch.tensor(X_train, dtype=torch.float32).to(device)\n",
    "y_train_tensor = torch.tensor(y_train, dtype=torch.float32).to(device)\n",
    "X_test_tensor = torch.tensor(X_test, dtype=torch.float32).to(device)\n",
    "y_test_tensor = torch.tensor(y_test, dtype=torch.float32).to(device)\n",
    "\n",
    "\n",
    "# Create a TensorDataset and DataLoader\n",
    "train_dataset = TensorDataset(X_train_tensor, y_train_tensor)\n",
    "test_dataset = TensorDataset(X_test_tensor, y_test_tensor)\n",
    "train_loader = DataLoader(train_dataset, batch_size=batch_size, shuffle=True)\n",
    "test_loader = DataLoader(test_dataset, batch_size=batch_size, shuffle=True)\n",
    "\n",
    "# Training loop with detailed logging\n",
    "for epoch in range(num_epochs):\n",
    "    epoch_loss = 0.0\n",
    "    num_batches = 0\n",
    "    model.train()\n",
    "    # Use tqdm for progress bar\n",
    "    for batch_X, batch_y in tqdm(train_loader, desc=f\"Epoch {epoch + 1}/{num_epochs}\"):\n",
    "        batch_X, batch_y = batch_X.to(device), batch_y.to(device)\n",
    "\n",
    "        # Zero out gradient\n",
    "        optimizer.zero_grad()\n",
    "\n",
    "        # Forward pass\n",
    "        outputs = model(batch_X)\n",
    "        # Compute loss\n",
    "        loss = loss_function(outputs, batch_y.squeeze(1))\n",
    "\n",
    "\n",
    "        # Backward pass and optimize\n",
    "        loss.backward()\n",
    "        optimizer.step()\n",
    "\n",
    "        # Accumulate loss for the epoch\n",
    "        epoch_loss += loss.item()\n",
    "        num_batches += 1\n",
    "\n",
    "\n",
    "    avg_loss = epoch_loss / num_batches\n",
    "    # Switch to evaluation mode for testing\n",
    "    model.eval()\n",
    "\n",
    "    test_loss = 0.0\n",
    "    test_batches = 0\n",
    "\n",
    "    # Iterate over test data\n",
    "    for test_X, test_y in test_loader:\n",
    "        test_X, test_y = test_X.to(device), test_y.to(device)\n",
    "\n",
    "        # Compute test output\n",
    "        test_outputs = model(test_X)\n",
    "        loss = loss_function(test_outputs, test_y.squeeze(1))\n",
    "        if not math.isnan(loss.item()):\n",
    "            test_loss += loss.item()\n",
    "            test_batches += 1\n",
    "\n",
    "    # Average the test loss\n",
    "    avg_test_loss = test_loss / test_batches\n",
    "    print(f'Epoch [{epoch+1}/{num_epochs}], Train Loss: {avg_loss:.4f}, Test Loss: {avg_test_loss:.4f}')"
   ],
   "metadata": {
    "collapsed": false
   }
  },
  {
   "cell_type": "code",
   "execution_count": 19,
   "outputs": [],
   "source": [
    "def print_predictions(predictions, scaler):\n",
    "    # Detach the tensor from computation graph and convert to numpy array\n",
    "    predictions_np = predictions.detach().cpu().numpy()\n",
    "\n",
    "    # Inverse transform the predictions to original scale\n",
    "    print(predictions_np)\n",
    "    print(predictions_np.reshape(1,-1))\n",
    "    predictions_original_scale = scaler.inverse_transform(predictions_np.reshape(1,-1))\n",
    "    # Convert to DataFrame\n",
    "    predictions_df = pd.DataFrame(predictions_original_scale, columns=data_cleaned.columns)\n",
    "\n",
    "    # Print predictions\n",
    "    print(predictions_df)\n",
    "    return predictions_df\n"
   ],
   "metadata": {
    "collapsed": false
   }
  },
  {
   "cell_type": "code",
   "execution_count": 20,
   "outputs": [
    {
     "name": "stdout",
     "output_type": "stream",
     "text": [
      "real\n",
      "[[5.5382621e-01 6.5851754e-01 5.3185314e-01 5.1851851e-01 8.3838385e-01\n",
      "  3.6003636e-04 5.4722220e-01 0.0000000e+00 0.0000000e+00 0.0000000e+00\n",
      "  0.0000000e+00 5.0000000e-01 2.5000000e-01 9.3301272e-01]]\n",
      "[[5.5382621e-01 6.5851754e-01 5.3185314e-01 5.1851851e-01 8.3838385e-01\n",
      "  3.6003636e-04 5.4722220e-01 0.0000000e+00 0.0000000e+00 0.0000000e+00\n",
      "  0.0000000e+00 5.0000000e-01 2.5000000e-01 9.3301272e-01]]\n",
      "       temp  dew_point  feels_like  pressure  humidity  wind_speed  \\\n",
      "0  6.120001   3.619999    3.459998    1017.0      84.0        3.61   \n",
      "\n",
      "     wind_deg  rain_1h  snow_1h  clouds_all  hour_sin  hour_cos  month_sin  \\\n",
      "0  196.999985      0.0      0.0         0.0      -1.0       0.0       -0.5   \n",
      "\n",
      "   month_cos  \n",
      "0   0.866025  \n",
      "prediction\n",
      "[ 5.5831361e-01  6.6169560e-01  5.3618324e-01  5.2866405e-01\n",
      "  8.3165240e-01  3.8111227e-04  5.3625506e-01 -1.3202243e-04\n",
      " -2.1746615e-04  1.8348724e-02 -3.0133128e-04  5.0354338e-01\n",
      "  2.4681328e-01  9.3097126e-01]\n",
      "[[ 5.5831361e-01  6.6169560e-01  5.3618324e-01  5.2866405e-01\n",
      "   8.3165240e-01  3.8111227e-04  5.3625506e-01 -1.3202243e-04\n",
      "  -2.1746615e-04  1.8348724e-02 -3.0133128e-04  5.0354338e-01\n",
      "   2.4681328e-01  9.3097126e-01]]\n",
      "       temp  dew_point  feels_like     pressure   humidity  wind_speed  \\\n",
      "0  6.431381   3.864392    3.803245  1017.821838  83.333588    3.820738   \n",
      "\n",
      "     wind_deg   rain_1h   snow_1h  clouds_all  hour_sin  hour_cos  month_sin  \\\n",
      "0  193.051819 -0.005533 -0.001657    1.834872 -1.000603  0.007087  -0.506373   \n",
      "\n",
      "   month_cos  \n",
      "0   0.861943  \n"
     ]
    },
    {
     "data": {
      "text/plain": "       temp  dew_point  feels_like     pressure   humidity  wind_speed  \\\n0  6.431381   3.864392    3.803245  1017.821838  83.333588    3.820738   \n\n     wind_deg   rain_1h   snow_1h  clouds_all  hour_sin  hour_cos  month_sin  \\\n0  193.051819 -0.005533 -0.001657    1.834872 -1.000603  0.007087  -0.506373   \n\n   month_cos  \n0   0.861943  ",
      "text/html": "<div>\n<style scoped>\n    .dataframe tbody tr th:only-of-type {\n        vertical-align: middle;\n    }\n\n    .dataframe tbody tr th {\n        vertical-align: top;\n    }\n\n    .dataframe thead th {\n        text-align: right;\n    }\n</style>\n<table border=\"1\" class=\"dataframe\">\n  <thead>\n    <tr style=\"text-align: right;\">\n      <th></th>\n      <th>temp</th>\n      <th>dew_point</th>\n      <th>feels_like</th>\n      <th>pressure</th>\n      <th>humidity</th>\n      <th>wind_speed</th>\n      <th>wind_deg</th>\n      <th>rain_1h</th>\n      <th>snow_1h</th>\n      <th>clouds_all</th>\n      <th>hour_sin</th>\n      <th>hour_cos</th>\n      <th>month_sin</th>\n      <th>month_cos</th>\n    </tr>\n  </thead>\n  <tbody>\n    <tr>\n      <th>0</th>\n      <td>6.431381</td>\n      <td>3.864392</td>\n      <td>3.803245</td>\n      <td>1017.821838</td>\n      <td>83.333588</td>\n      <td>3.820738</td>\n      <td>193.051819</td>\n      <td>-0.005533</td>\n      <td>-0.001657</td>\n      <td>1.834872</td>\n      <td>-1.000603</td>\n      <td>0.007087</td>\n      <td>-0.506373</td>\n      <td>0.861943</td>\n    </tr>\n  </tbody>\n</table>\n</div>"
     },
     "execution_count": 20,
     "metadata": {},
     "output_type": "execute_result"
    }
   ],
   "source": [
    "data = test_dataset[1][0].unsqueeze(0).to(device)  # Add batch dimension and move to device\n",
    "real = test_dataset[1][1].to(device)\n",
    "model.eval()\n",
    "pred = model(data).squeeze(0)  # Remove batch dimension from output\n",
    "print(\"real\")\n",
    "print_predictions(real, scaler)\n",
    "print(\"prediction\")\n",
    "print_predictions(pred, scaler)"
   ],
   "metadata": {
    "collapsed": false
   }
  },
  {
   "cell_type": "code",
   "execution_count": 21,
   "outputs": [
    {
     "data": {
      "text/plain": "['./data/scaler.gz']"
     },
     "execution_count": 21,
     "metadata": {},
     "output_type": "execute_result"
    }
   ],
   "source": [
    "\n",
    "# Save the model\n",
    "torch.save(model.state_dict(), './data/model_state_dict.pth')\n",
    "\n",
    "import joblib\n",
    "\n",
    "# Save the scaler\n",
    "joblib.dump(scaler, './data/scaler.gz')\n"
   ],
   "metadata": {
    "collapsed": false
   }
  },
  {
   "cell_type": "code",
   "execution_count": 22,
   "outputs": [
    {
     "name": "stdout",
     "output_type": "stream",
     "text": [
      "[-3.231e+01 -4.702e+01 -3.870e+01  9.750e+02  1.000e+00  1.000e-02\n",
      "  0.000e+00  0.000e+00  0.000e+00  0.000e+00 -1.000e+00 -1.000e+00\n",
      " -1.000e+00 -1.000e+00] [3.708e+01 2.988e+01 4.057e+01 1.056e+03 1.000e+02 9.999e+03 3.600e+02\n",
      " 4.191e+01 7.620e+00 1.000e+02 1.000e+00 1.000e+00 1.000e+00 1.000e+00]\n"
     ]
    }
   ],
   "source": [
    "print(scaler.data_min_, scaler.data_max_)"
   ],
   "metadata": {
    "collapsed": false
   }
  }
 ],
 "metadata": {
  "kernelspec": {
   "display_name": "Python 3",
   "language": "python",
   "name": "python3"
  },
  "language_info": {
   "codemirror_mode": {
    "name": "ipython",
    "version": 2
   },
   "file_extension": ".py",
   "mimetype": "text/x-python",
   "name": "python",
   "nbconvert_exporter": "python",
   "pygments_lexer": "ipython2",
   "version": "2.7.6"
  }
 },
 "nbformat": 4,
 "nbformat_minor": 0
}
